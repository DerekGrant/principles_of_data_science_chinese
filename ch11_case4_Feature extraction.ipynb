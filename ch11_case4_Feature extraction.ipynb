{
 "cells": [
  {
   "cell_type": "code",
   "execution_count": null,
   "metadata": {
    "collapsed": true
   },
   "outputs": [],
   "source": [
    "url = '../data/yelp.csv'\n",
    "yelp = pd.read_csv(url, encoding='unicode-escape')\n",
    "\n",
    "yelp.shape"
   ]
  },
  {
   "cell_type": "code",
   "execution_count": null,
   "metadata": {
    "collapsed": true
   },
   "outputs": [],
   "source": [
    "d = 1\n",
    "# Let's look for points within 1 unit of one another\n",
    "\n",
    "X_first_word = X[:,:1]\n",
    "# Only looking at the first column, but ALL of the rows\n",
    "\n",
    "from sklearn.neighbors import NearestNeighbors\n",
    "# this module will calculate for us distances between each point\n",
    "\n",
    "neigh = NearestNeighbors(n_neighbors=4086)\n",
    "neigh.fit(X_first_word)\n",
    "# tell the module to calculate each distance between each point"
   ]
  },
  {
   "cell_type": "code",
   "execution_count": null,
   "metadata": {
    "collapsed": true
   },
   "outputs": [],
   "source": [
    "A = neigh.kneighbors_graph(X_first_word, mode='distance').todense()\n",
    "# This matrix holds all distances (over 16 million of them)\n",
    "\n",
    "num_points_within_d = (A < d).sum()\n",
    "# Count the number of pairs of points within 1 unit of distance\n",
    "\n",
    "num_points_within_d"
   ]
  },
  {
   "cell_type": "code",
   "execution_count": null,
   "metadata": {
    "collapsed": true
   },
   "outputs": [],
   "source": [
    "X_first_two_words = X[:,:2]\n",
    "neigh = NearestNeighbors(n_neighbors=4086)\n",
    "neigh.fit(X_first_two_words)\n",
    "A = neigh.kneighbors_graph(X_first_two_words, mode='distance').todense()\n",
    "num_points_within_d = (A < d).sum()\n",
    "\n",
    "num_points_within_d"
   ]
  },
  {
   "cell_type": "code",
   "execution_count": null,
   "metadata": {
    "collapsed": true
   },
   "outputs": [],
   "source": [
    "d = 1\n",
    "# Scan for points within one unit\n",
    "\n",
    "num_columns = range(1, 100)\n",
    "# Looking at the first 100 columns\n",
    "points = []\n",
    "# We will be collecting the number of points within 1 unit for a graph\n",
    "\n",
    "neigh = NearestNeighbors(n_neighbors=X.shape[0])\n",
    "for subset in num_columns:\n",
    "    X_subset = X[:,:subset]\n",
    "    # look at the first column, then first two columns, then first three columns, etc\n",
    "    neigh.fit(X_subset)\n",
    "    A = neigh.kneighbors_graph(X_subset, mode='distance').todense()\n",
    "    num_points_within_d = (A < d).sum()\n",
    "    # calculate the number of points within 1 unit\n",
    "    points.append(num_points_within_d)"
   ]
  },
  {
   "cell_type": "code",
   "execution_count": null,
   "metadata": {
    "collapsed": true
   },
   "outputs": [],
   "source": [
    "neigh = NearestNeighbors(n_neighbors=4086)\n",
    "neigh.fit(X)\n",
    "A = neigh.kneighbors_graph(X, mode='distance').todense()\n",
    "num_points_within_d = (A < d).sum()\n",
    "\n",
    "num_points_within_d"
   ]
  },
  {
   "cell_type": "code",
   "execution_count": null,
   "metadata": {
    "collapsed": true
   },
   "outputs": [],
   "source": [
    "# create a new DataFrame that only contains the 5-star and 1-star reviews\n",
    "yelp_best_worst = yelp[(yelp.stars==5) | (yelp.stars==1)]\n",
    "\n",
    "# define X and y\n",
    "X = yelp_best_worst.text\n",
    "y = yelp_best_worst.stars == 5"
   ]
  },
  {
   "cell_type": "code",
   "execution_count": null,
   "metadata": {
    "collapsed": true
   },
   "outputs": [],
   "source": [
    "from sklearn.linear_model import LogisticRegression\n",
    "lr = LogisticRegression()\n",
    "X_train, X_test, y_train, y_test = train_test_split(X, y, random_state=100)"
   ]
  },
  {
   "cell_type": "code",
   "execution_count": null,
   "metadata": {
    "collapsed": true
   },
   "outputs": [],
   "source": [
    "# Make our training and testing sets\n",
    "\n",
    "vect = CountVectorizer(stop_words='english')\n",
    "# Count the number of words but remove stop words like a, an, the, you, etc\n",
    "\n",
    "X_train_dtm = vect.fit_transform(X_train)\n",
    "X_test_dtm = vect.transform(X_test)\n",
    "# transform our text into document term matrices\n",
    "\n",
    "lr.fit(X_train_dtm, y_train)\n",
    "# fit to our training set\n",
    "\n",
    "lr.score(X_test_dtm, y_test)\n",
    "# score on our testing set"
   ]
  },
  {
   "cell_type": "code",
   "execution_count": null,
   "metadata": {
    "collapsed": true
   },
   "outputs": [],
   "source": [
    "vect = CountVectorizer(stop_words='english', max_features=100)\n",
    "# Only use the 100 most used words\n",
    "\n",
    "X_train_dtm = vect.fit_transform(X_train)\n",
    "X_test_dtm = vect.transform(X_test)\n",
    "print X_test_dtm.shape # (1022, 100)\n",
    "\n",
    "lr.fit(X_train_dtm, y_train)\n",
    "\n",
    "lr.score(X_test_dtm, y_test)"
   ]
  }
 ],
 "metadata": {
  "kernelspec": {
   "display_name": "Python 2",
   "language": "python",
   "name": "python2"
  },
  "language_info": {
   "codemirror_mode": {
    "name": "ipython",
    "version": 2
   },
   "file_extension": ".py",
   "mimetype": "text/x-python",
   "name": "python",
   "nbconvert_exporter": "python",
   "pygments_lexer": "ipython2",
   "version": "2.7.13"
  }
 },
 "nbformat": 4,
 "nbformat_minor": 2
}
