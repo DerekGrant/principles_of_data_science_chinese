{
 "cells": [
  {
   "cell_type": "code",
   "execution_count": 7,
   "metadata": {
    "collapsed": false
   },
   "outputs": [
    {
     "ename": "ImportError",
     "evalue": "No module named textblob",
     "output_type": "error",
     "traceback": [
      "\u001b[0;31m---------------------------------------------------------------------------\u001b[0m",
      "\u001b[0;31mImportError\u001b[0m                               Traceback (most recent call last)",
      "\u001b[0;32m<ipython-input-7-3445a420d3b6>\u001b[0m in \u001b[0;36m<module>\u001b[0;34m()\u001b[0m\n\u001b[0;32m----> 1\u001b[0;31m \u001b[1;32mfrom\u001b[0m \u001b[0mtextblob\u001b[0m \u001b[1;32mimport\u001b[0m \u001b[0mTextBlob\u001b[0m\u001b[1;33m\u001b[0m\u001b[0m\n\u001b[0m\u001b[1;32m      2\u001b[0m \u001b[1;32mimport\u001b[0m \u001b[0mpandas\u001b[0m \u001b[1;32mas\u001b[0m \u001b[0mpd\u001b[0m\u001b[1;33m\u001b[0m\u001b[0m\n",
      "\u001b[0;31mImportError\u001b[0m: No module named textblob"
     ]
    }
   ],
   "source": [
    "from textblob import TextBlob\n",
    "import pandas as pd\n",
    "%matplotlib inline"
   ]
  },
  {
   "cell_type": "code",
   "execution_count": null,
   "metadata": {
    "collapsed": true
   },
   "outputs": [],
   "source": [
    "# use the textblob module to make a function called stringToSentiment\n",
    "# that returns a sentences sentiment\n",
    "def stringToSentiment(text):\n",
    "    return TextBlob(text).sentiment.polarity"
   ]
  },
  {
   "cell_type": "code",
   "execution_count": null,
   "metadata": {
    "collapsed": false
   },
   "outputs": [],
   "source": [
    "stringToSentiment('i hate you')"
   ]
  },
  {
   "cell_type": "code",
   "execution_count": null,
   "metadata": {
    "collapsed": true
   },
   "outputs": [],
   "source": [
    "stringToSentiment('i love you')"
   ]
  },
  {
   "cell_type": "code",
   "execution_count": null,
   "metadata": {
    "collapsed": true
   },
   "outputs": [],
   "source": [
    "stringToSentiment('i see you')"
   ]
  },
  {
   "cell_type": "code",
   "execution_count": null,
   "metadata": {
    "collapsed": true
   },
   "outputs": [],
   "source": [
    "# read in tweets data into a dataframe\n",
    "# these tweets are from last May and are about Apple (AAPL)\n",
    "tweets = pd.read_csv('../data/so_many_tweets.csv')\n",
    "tweets.head()"
   ]
  },
  {
   "cell_type": "code",
   "execution_count": null,
   "metadata": {
    "collapsed": true
   },
   "outputs": [],
   "source": [
    "tweets.shape"
   ]
  },
  {
   "cell_type": "code",
   "execution_count": null,
   "metadata": {
    "collapsed": true
   },
   "outputs": [],
   "source": [
    "# create a new column in tweets called sentiment that maps \n",
    "# stringToSentiment to the text column\n",
    "tweets['sentiment'] = tweets['Text'].apply(stringToSentiment)\n",
    "tweets.head()"
   ]
  },
  {
   "cell_type": "code",
   "execution_count": null,
   "metadata": {
    "collapsed": true
   },
   "outputs": [],
   "source": [
    "tweets.index"
   ]
  },
  {
   "cell_type": "code",
   "execution_count": null,
   "metadata": {
    "collapsed": true
   },
   "outputs": [],
   "source": [
    "# As a list, we can splice it\n",
    "list(tweets.index)[:5]"
   ]
  },
  {
   "cell_type": "code",
   "execution_count": null,
   "metadata": {
    "collapsed": true
   },
   "outputs": [],
   "source": [
    "# cast the date column as a datetime\n",
    "tweets['Date'] = pd.to_datetime(tweets.Date)\n",
    "tweets['Date'].head()"
   ]
  },
  {
   "cell_type": "code",
   "execution_count": null,
   "metadata": {
    "collapsed": true
   },
   "outputs": [],
   "source": [
    "tweets.index = tweets.Date\n",
    "tweets.index"
   ]
  },
  {
   "cell_type": "code",
   "execution_count": null,
   "metadata": {
    "collapsed": true
   },
   "outputs": [],
   "source": [
    "tweets.head()"
   ]
  },
  {
   "cell_type": "code",
   "execution_count": null,
   "metadata": {
    "collapsed": true
   },
   "outputs": [],
   "source": [
    "# create a dataframe called daily_tweets which resamples tweets by D,\n",
    "# averaging the columns\n",
    "daily_tweets = tweets[['sentiment']].resample('D', how='mean')\n",
    "\n",
    "# I only want the sentiment column in my new Dataframe.\n",
    "daily_tweets.head()"
   ]
  },
  {
   "cell_type": "code",
   "execution_count": null,
   "metadata": {
    "collapsed": true
   },
   "outputs": [],
   "source": [
    "daily_tweets.shape"
   ]
  },
  {
   "cell_type": "code",
   "execution_count": null,
   "metadata": {
    "collapsed": true
   },
   "outputs": [],
   "source": [
    "# plot the sentiment as a line graph\n",
    "daily_tweets.sentiment.plot(kind='line')"
   ]
  },
  {
   "cell_type": "code",
   "execution_count": null,
   "metadata": {
    "collapsed": true
   },
   "outputs": [],
   "source": [
    "# get historical prices through the Yahoo Finance API from yahoo_finance import Share\n",
    "yahoo = Share(\"AAPL\")\n",
    "historical_prices = yahoo.get_historical('2015-05-2', '2015-05-25')\n",
    "prices = pd.DataFrame(historical_prices)\n",
    "\n",
    "prices.head()"
   ]
  },
  {
   "cell_type": "code",
   "execution_count": null,
   "metadata": {
    "collapsed": true
   },
   "outputs": [],
   "source": [
    "# Set the index of the price dataframe to also be datetimes\n",
    "prices.index = pd.to_datetime(prices['Date'])\n",
    "prices.info() #the columns aren't numbers!"
   ]
  },
  {
   "cell_type": "code",
   "execution_count": null,
   "metadata": {
    "collapsed": true
   },
   "outputs": [],
   "source": [
    "# cast the column as numbers\n",
    "prices.Close = not_null_close.Close.astype('float')\n",
    "prices.Volume = not_null_close.Volume.astype('float')"
   ]
  },
  {
   "cell_type": "code",
   "execution_count": null,
   "metadata": {
    "collapsed": true
   },
   "outputs": [],
   "source": [
    "# plot both volume and close as line graphs in the same graph, what do\n",
    "you notice is the problem?\n",
    "prices[[\"Volume\", 'Close']].plot()"
   ]
  },
  {
   "cell_type": "code",
   "execution_count": null,
   "metadata": {
    "collapsed": true
   },
   "outputs": [],
   "source": [
    "prices[[\"Volume\", 'Close']].describe()"
   ]
  },
  {
   "cell_type": "code",
   "execution_count": null,
   "metadata": {
    "collapsed": true
   },
   "outputs": [],
   "source": [
    "# scale the columns by z scores using StandardScaler\n",
    "# Then plot the scaled data\n",
    "s = StandardScaler()\n",
    "only_prices_and_volumes = prices[[\"Volume\", 'Close']]\n",
    "price_volume_scaled = s.fit_transform(only_prices_and_volumes)\n",
    "pd.DataFrame(price_volume_scaled, columns=[\"Volume\", 'Close']).plot()"
   ]
  },
  {
   "cell_type": "code",
   "execution_count": null,
   "metadata": {
    "collapsed": true
   },
   "outputs": [],
   "source": [
    "# concatinate prices.Close, and daily_tweets.sentiment\n",
    "merged = pd.concat([prices.Close, daily_tweets.sentiment], axis=1)\n",
    "merged.head()"
   ]
  },
  {
   "cell_type": "code",
   "execution_count": null,
   "metadata": {
    "collapsed": true
   },
   "outputs": [],
   "source": [
    "# Delete any rows with missing values in any column\n",
    "merged.dropna(inplace=True)"
   ]
  },
  {
   "cell_type": "code",
   "execution_count": null,
   "metadata": {
    "collapsed": true
   },
   "outputs": [],
   "source": [
    "merged.plot()\n",
    "# wow that looks awful"
   ]
  },
  {
   "cell_type": "code",
   "execution_count": null,
   "metadata": {
    "collapsed": true
   },
   "outputs": [],
   "source": [
    "# scale the columns by z scores using StandardScaler\n",
    "from sklearn.preprocessing import StandardScaler\n",
    "s = StandardScaler()\n",
    "merged_scaled = s.fit_transform(merged)\n",
    "pd.DataFrame(merged_scaled, columns=merged.columns).plot()\n",
    "# notice how sentiment seems to follow the closing price"
   ]
  },
  {
   "cell_type": "code",
   "execution_count": null,
   "metadata": {
    "collapsed": true
   },
   "outputs": [],
   "source": [
    "# Shift the sentiment column backwards one item\n",
    "merged['yesterday_sentiment'] = merged['sentiment'].shift(1)\n",
    "merged.head()"
   ]
  },
  {
   "cell_type": "code",
   "execution_count": null,
   "metadata": {
    "collapsed": true
   },
   "outputs": [],
   "source": [
    "# Make a new dataframe for our regression and drop the null values\n",
    "regression_df = merged[['yesterday_sentiment', 'Close']]\n",
    "regression_df.dropna(inplace=True)\n",
    "regression_df.head()"
   ]
  },
  {
   "cell_type": "code",
   "execution_count": null,
   "metadata": {
    "collapsed": true
   },
   "outputs": [],
   "source": [
    "# Imports for our regression\n",
    "from sklearn.linear_model import LinearRegression\n",
    "from sklearn.ensemble import RandomForestRegressor\n",
    "from sklearn.cross_validation import cross_val_score\n",
    "import numpy as np"
   ]
  },
  {
   "cell_type": "code",
   "execution_count": null,
   "metadata": {
    "collapsed": true
   },
   "outputs": [],
   "source": [
    "# Our RMSE as a result of cross validation linear regression\n",
    "linreg = LinearRegression()\n",
    "rmse_cv = np.sqrt(abs(cross_val_score(linreg, regression_\n",
    "df[['yesterday_sentiment']], regression_df['Close'], cv=3,\n",
    "scoring='mean_squared_error').mean()))\n",
    "rmse_cv"
   ]
  },
  {
   "cell_type": "code",
   "execution_count": null,
   "metadata": {
    "collapsed": true
   },
   "outputs": [],
   "source": [
    "# Our RMSE as a result of cross validation random forest\n",
    "rf = RandomForestRegressor()\n",
    "rmse_cv = np.sqrt(abs(cross_val_score(rf, regression_df[['yesterday_\n",
    "sentiment']], regression_df['Close'], cv=3, scoring='mean_squared_\n",
    "error').mean()))\n",
    "rmse_cv"
   ]
  },
  {
   "cell_type": "code",
   "execution_count": null,
   "metadata": {
    "collapsed": true
   },
   "outputs": [],
   "source": [
    "regression_df['Close'].describe()"
   ]
  },
  {
   "cell_type": "code",
   "execution_count": null,
   "metadata": {
    "collapsed": true
   },
   "outputs": [],
   "source": [
    "# null model for regression\n",
    "mean_close = regression_df['Close'].mean()\n",
    "preds = [mean_close]*regression_df.shape[0]\n",
    "preds\n",
    "from sklearn.metrics import mean_squared_error\n",
    "null_rmse = np.sqrt(mean_squared_error(preds, regression_df['Close']))\n",
    "null_rmse"
   ]
  },
  {
   "cell_type": "code",
   "execution_count": null,
   "metadata": {
    "collapsed": true
   },
   "outputs": [],
   "source": [
    "# Imports for our classification\n",
    "from sklearn.linear_model import LogisticRegression\n",
    "from sklearn.ensemble import RandomForestClassifier\n",
    "from sklearn.cross_validation import cross_val_score\n",
    "import numpy as np\n",
    "\n",
    "# Make a new dataframe for our classification and drop the null values\n",
    "classification_df = merged[['yesterday_sentiment', 'Close']]\n",
    "# variable to represent yesterday's closing price\n",
    "classification_df['yesterday_close'] = classification_df['Close'].\n",
    "shift(1)\n",
    "# column that represents the precent change in price since yesterday\n",
    "classification_df['percent_change_in_price'] = (classification_\n",
    "df['Close']-classification_df['yesterday_close']) / classification_\n",
    "df['yesterday_close']\n",
    "# drop any null values\n",
    "classification_df.dropna(inplace=True)\n",
    "classification_df.head()\n",
    "# Our new classification response\n",
    "classification_df['change_close_big_deal'] = abs(classification_\n",
    "df['percent_change_in_price'] ) > .01\n",
    "classification_df.head()"
   ]
  },
  {
   "cell_type": "code",
   "execution_count": null,
   "metadata": {
    "collapsed": true
   },
   "outputs": [],
   "source": [
    "# Our accuracy as a result of cross validation random forest\n",
    "rf = RandomForestClassifier()\n",
    "accuracy_cv = cross_val_score(rf, classification_df[['yesterday_\n",
    "sentiment']], classification_df['change_close_big_deal'], cv=3,\n",
    "scoring='accuracy').mean()\n",
    "accuracy_cv"
   ]
  },
  {
   "cell_type": "code",
   "execution_count": null,
   "metadata": {
    "collapsed": true
   },
   "outputs": [],
   "source": [
    "# Our accuracy as a result of cross validation logistic regression\n",
    "logreg = LogisticRegression()\n",
    "accuracy_cv = cross_val_score(logreg, classification_df[['yesterday_\n",
    "sentiment']], classification_df['change_close_big_deal'], cv=3,\n",
    "scoring='accuracy').mean()\n",
    "accuracy_cv"
   ]
  },
  {
   "cell_type": "code",
   "execution_count": null,
   "metadata": {
    "collapsed": true
   },
   "outputs": [],
   "source": [
    "# null model for classification\n",
    "null_accuracy = 1 - classification_df['change_close_big_deal'].mean()\n",
    "null_accuracy"
   ]
  }
 ],
 "metadata": {
  "kernelspec": {
   "display_name": "Python 2",
   "language": "python",
   "name": "python2"
  },
  "language_info": {
   "codemirror_mode": {
    "name": "ipython",
    "version": 2
   },
   "file_extension": ".py",
   "mimetype": "text/x-python",
   "name": "python",
   "nbconvert_exporter": "python",
   "pygments_lexer": "ipython2",
   "version": "2.7.13"
  }
 },
 "nbformat": 4,
 "nbformat_minor": 2
}
