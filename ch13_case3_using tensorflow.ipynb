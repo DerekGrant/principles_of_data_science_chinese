{
 "cells": [
  {
   "cell_type": "code",
   "execution_count": 1,
   "metadata": {
    "collapsed": false
   },
   "outputs": [
    {
     "ename": "ImportError",
     "evalue": "No module named tensorflow",
     "output_type": "error",
     "traceback": [
      "\u001b[0;31m---------------------------------------------------------------------------\u001b[0m",
      "\u001b[0;31mImportError\u001b[0m                               Traceback (most recent call last)",
      "\u001b[0;32m<ipython-input-1-2e4536cd109d>\u001b[0m in \u001b[0;36m<module>\u001b[0;34m()\u001b[0m\n\u001b[1;32m      1\u001b[0m \u001b[1;32mfrom\u001b[0m \u001b[0msklearn\u001b[0m \u001b[1;32mimport\u001b[0m \u001b[0mdatasets\u001b[0m\u001b[1;33m,\u001b[0m \u001b[0mmetrics\u001b[0m\u001b[1;33m\u001b[0m\u001b[0m\n\u001b[0;32m----> 2\u001b[0;31m \u001b[1;32mimport\u001b[0m \u001b[0mtensorflow\u001b[0m \u001b[1;32mas\u001b[0m \u001b[0mtf\u001b[0m\u001b[1;33m\u001b[0m\u001b[0m\n\u001b[0m\u001b[1;32m      3\u001b[0m \u001b[1;32mimport\u001b[0m \u001b[0mnumpy\u001b[0m \u001b[1;32mas\u001b[0m \u001b[0mnp\u001b[0m\u001b[1;33m\u001b[0m\u001b[0m\n\u001b[1;32m      4\u001b[0m \u001b[1;32mfrom\u001b[0m \u001b[0msklearn\u001b[0m\u001b[1;33m.\u001b[0m\u001b[0mcross_validation\u001b[0m \u001b[1;32mimport\u001b[0m \u001b[0mtrain_test_split\u001b[0m\u001b[1;33m\u001b[0m\u001b[0m\n\u001b[1;32m      5\u001b[0m \u001b[0mget_ipython\u001b[0m\u001b[1;33m(\u001b[0m\u001b[1;33m)\u001b[0m\u001b[1;33m.\u001b[0m\u001b[0mmagic\u001b[0m\u001b[1;33m(\u001b[0m\u001b[1;34mu'matplotlib inline'\u001b[0m\u001b[1;33m)\u001b[0m\u001b[1;33m\u001b[0m\u001b[0m\n",
      "\u001b[0;31mImportError\u001b[0m: No module named tensorflow"
     ]
    }
   ],
   "source": [
    "from sklearn import datasets, metrics\n",
    "import tensorflow as tf\n",
    "import numpy as np\n",
    "from sklearn.cross_validation import train_test_split\n",
    "%matplotlib inline"
   ]
  },
  {
   "cell_type": "code",
   "execution_count": null,
   "metadata": {
    "collapsed": true
   },
   "outputs": [],
   "source": [
    "# Our data set of iris flowers\n",
    "iris = datasets.load_iris()\n",
    "\n",
    "# Load datasets and split them for training and testing\n",
    "X_train, X_test, y_train, y_test = train_test_split(iris.data, iris.target)\n"
   ]
  },
  {
   "cell_type": "code",
   "execution_count": null,
   "metadata": {
    "collapsed": true
   },
   "outputs": [],
   "source": [
    "####### TENSORFLOW #######\n",
    "# Here is tensorflow's syntax for defining features.\n",
    "# We must specify that all features have real-value data\n",
    "\n",
    "feature_columns = [tf.contrib.layers.real_valued_column(\"\",dimension=4)]\n",
    "# notice the dimension is set to four because we have four columns\n",
    "# We set our \"learning rate\" which is a decimal that tells the network\n",
    "# how quickly to learn\n",
    "\n",
    "optimizer = tf.train.GradientDescentOptimizer(learning_rate=.1)\n",
    "# A learning rate closer to 0 means the network will learn slower\n",
    "# Build a linear classifier (logistic regression)\n",
    "# note we have to tell tensorflow the number of classes we are looking for\n",
    "# which are 3 classes of iris\n",
    "classifier = tf.contrib.learn.LinearClassifier(feature_columns=feature_columns,\\\n",
    "                                               optimizer=optimizer, n_classes=3)\n",
    "\n",
    "# Fit model. Uses error optimization techniques like stochastic gradient descent\n",
    "classifier.fit(x=X_train, y=y_train, steps=1000) # number of iterations"
   ]
  },
  {
   "cell_type": "code",
   "execution_count": null,
   "metadata": {
    "collapsed": true
   },
   "outputs": [],
   "source": [
    "# Evaluate accuracy.\n",
    "accuracy_score = classifier.evaluate(x=X_test, y=y_test)[\"accuracy\"]\n",
    "print('Accuracy: {0:f}'.format(accuracy_score))\n",
    "# Accuracy: 0.973684"
   ]
  },
  {
   "cell_type": "code",
   "execution_count": null,
   "metadata": {
    "collapsed": true
   },
   "outputs": [],
   "source": [
    "# Classify two new flower samples.\n",
    "new_samples = np.array([[6.4, 3.2, 4.5, 1.5], [5.8, 3.1, 5.0, 1.7]], dtype=float)\n",
    "y = classifier.predict(new_samples)\n",
    "\n",
    "print('Predictions: {}'.format(str(y)))\n",
    "#Predictions: [1 2]"
   ]
  },
  {
   "cell_type": "code",
   "execution_count": null,
   "metadata": {
    "collapsed": true
   },
   "outputs": [],
   "source": [
    "from sklearn.linear_model import LogisticRegression\n",
    "# compare our result above to a simple scikit-learn logistic regression\n",
    "\n",
    "logreg = LogisticRegression()\n",
    "# instantiate the model\n",
    "\n",
    "logreg.fit(X_train, y_train)\n",
    "# fit it to our training set\n",
    "\n",
    "y_predicted = logreg.predict(X_test)\n",
    "# predict on our test set, to avoid overfitting!\n",
    "\n",
    "accuracy = metrics.accuracy_score(y_predicted, y_test)\n",
    "# get our accuracy score\n",
    "\n",
    "print accuracy\n",
    "# It's the same thing!"
   ]
  },
  {
   "cell_type": "code",
   "execution_count": null,
   "metadata": {
    "collapsed": true
   },
   "outputs": [],
   "source": [
    "feature_columns = [tf.contrib.layers.real_valued_column(\"\", dimension=4)]\n",
    "optimizer = tf.train.GradientDescentOptimizer(learning_rate=.1)\n",
    "\n",
    "classifier = tf.contrib.learn.LinearClassifier(feature_columns=feature_columns,\\\n",
    "                                               optimizer=optimizer, n_classes=3)\n",
    "\n",
    "classifier.fit(x=X_train, y=y_train, steps=2000) # number of iterations is 2000 now"
   ]
  },
  {
   "cell_type": "code",
   "execution_count": null,
   "metadata": {
    "collapsed": true
   },
   "outputs": [],
   "source": [
    "# Evaluate accuracy.\n",
    "accuracy_score = classifier.evaluate(x=X_test, y=y_test)[\"accuracy\"]\n",
    "print('Accuracy: {0:f}'.format(accuracy_score))\n",
    "# Accuracy: 0.973684"
   ]
  },
  {
   "cell_type": "code",
   "execution_count": null,
   "metadata": {
    "collapsed": true
   },
   "outputs": [],
   "source": [
    "# Specify that all features have real-value data\n",
    "feature_columns = [tf.contrib.layers.real_valued_column(\"\", dimension=4)]\n",
    "optimizer = tf.train.GradientDescentOptimizer(learning_rate=.1)\n",
    "# Build 3 layer DNN with 10, 20, 10 units respectively.\n",
    "\n",
    "classifier = tf.contrib.learn.DNNClassifier(feature_columns=feature_columns,\\\n",
    "                                            hidden_units=[10, 20, 10], optimizer=optimizer,\\\n",
    "                                            n_classes=3)\n",
    "# Fit model.\n",
    "classifier.fit(x=X_train, y=y_train, steps=2000)"
   ]
  },
  {
   "cell_type": "code",
   "execution_count": null,
   "metadata": {
    "collapsed": true
   },
   "outputs": [],
   "source": [
    "tf.contrib.learn.DNNClassifier(feature_columns=feature_columns, hidden_units=[10, 20, 10],\\\n",
    "                               optimizer=optimizer, n_classes=3)\n",
    "\n",
    "# Evaluate accuracy.\n",
    "accuracy_score = classifier.evaluate(x=X_test, y=y_test)[\"accuracy\"]\n",
    "\n",
    "print('Accuracy: {0:f}'.format(accuracy_score))\n",
    "#Accuracy: 0.921053"
   ]
  },
  {
   "cell_type": "code",
   "execution_count": null,
   "metadata": {
    "collapsed": true
   },
   "outputs": [],
   "source": [
    "from tensorflow.examples.tutorials.mnist import input_data\n",
    "mnist = input_data.read_data_sets(\"MNIST_data/\", one_hot=False)"
   ]
  },
  {
   "cell_type": "code",
   "execution_count": null,
   "metadata": {
    "collapsed": true
   },
   "outputs": [],
   "source": [
    "x_mnist = mnist.train.images\n",
    "y_mnist = mnist.train.labels.astype(int)"
   ]
  },
  {
   "cell_type": "code",
   "execution_count": null,
   "metadata": {
    "collapsed": true
   },
   "outputs": [],
   "source": [
    "import matplotlib.pyplot as plt\n",
    "plt.imshow(x_mnist[10].reshape(28, 28))"
   ]
  },
  {
   "cell_type": "code",
   "execution_count": null,
   "metadata": {
    "collapsed": true
   },
   "outputs": [],
   "source": [
    "y_mnist[10]"
   ]
  },
  {
   "cell_type": "code",
   "execution_count": null,
   "metadata": {
    "collapsed": true
   },
   "outputs": [],
   "source": [
    "x_mnist.shape\n",
    "#(55000, 784)\n",
    "\n",
    "y_mnist.shape\n",
    "#(55000,)"
   ]
  },
  {
   "cell_type": "code",
   "execution_count": null,
   "metadata": {
    "collapsed": true
   },
   "outputs": [],
   "source": [
    "# Specify that all features have real-value data\n",
    "feature_columns = [tf.contrib.layers.real_valued_column(\"\", dimension=784)]\n",
    "optimizer = tf.train.GradientDescentOptimizer(learning_rate=.1)\n",
    "\n",
    "# Build 3 layer DNN with 10, 20, 10 units respectively.\n",
    "classifier = tf.contrib.learn.DNNClassifier(feature_columns=feature_columns,\\\n",
    "                                            hidden_units=[10, 20, 10], optimizer=optimizer, n_classes=10)\n",
    "\n",
    "# Fit model.\n",
    "classifier.fit(x=x_mnist, y=y_mnist, steps=1000)\n",
    "# Warning this is veryyyyyyyy slow"
   ]
  },
  {
   "cell_type": "code",
   "execution_count": null,
   "metadata": {
    "collapsed": true
   },
   "outputs": [],
   "source": [
    "x_mnist_test = mnist.test.images\n",
    "y_mnist_test = mnist.test.labels.astype(int)\n",
    "\n",
    "x_mnist_test.shape\n",
    "# (10000, 784)\n",
    "y_mnist_test.shape\n",
    "# (10000,)"
   ]
  },
  {
   "cell_type": "code",
   "execution_count": null,
   "metadata": {
    "collapsed": true
   },
   "outputs": [],
   "source": [
    "# Evaluate accuracy.\n",
    "accuracy_score = classifier.evaluate(x=x_mnist_test, y=y_mnist_test)[\"accuracy\"]\n",
    "print('Accuracy: {0:f}'.format(accuracy_score))\n",
    "# Accuracy: 0.920600\n",
    "\n",
    "# Not bad, 92% accuracy on our dataset. Let's take a second and compare\n",
    "# this performance to a standard sklearn logistic regression now:\n",
    "logreg = LogisticRegression()\n",
    "logreg.fit(x_mnist, y_mnist)\n",
    "# Warning this is slow\n",
    "\n",
    "y_predicted = logreg.predict(x_mnist_test)\n",
    "from sklearn.metrics import accuracy_score\n",
    "# predict on our test set, to avoid overfitting!\n",
    "\n",
    "accuracy = accuracy_score(y_predicted, y_mnist_test)\n",
    "# get our accuracy score\n",
    "accuracy\n",
    "# 0.91969"
   ]
  }
 ],
 "metadata": {
  "kernelspec": {
   "display_name": "Python 2",
   "language": "python",
   "name": "python2"
  },
  "language_info": {
   "codemirror_mode": {
    "name": "ipython",
    "version": 2
   },
   "file_extension": ".py",
   "mimetype": "text/x-python",
   "name": "python",
   "nbconvert_exporter": "python",
   "pygments_lexer": "ipython2",
   "version": "2.7.13"
  }
 },
 "nbformat": 4,
 "nbformat_minor": 2
}
